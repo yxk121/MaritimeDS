{
 "cells": [
  {
   "cell_type": "code",
   "execution_count": 3,
   "metadata": {
    "colab": {},
    "colab_type": "code",
    "executionInfo": {
     "elapsed": 1420,
     "status": "ok",
     "timestamp": 1597398322204,
     "user": {
      "displayName": "Kane",
      "photoUrl": "https://lh3.googleusercontent.com/a-/AOh14Gg-OYK-q_VDiB1MYMLMSc0vv5Vp8oVtKBNeSjfo=s64",
      "userId": "16107101568353036922"
     },
     "user_tz": -480
    },
    "id": "Jr0D7366hKJX"
   },
   "outputs": [],
   "source": [
    "import pandas as pd\n",
    "import numpy as np\n",
    "import os\n",
    "import cv2"
   ]
  },
  {
   "cell_type": "code",
   "execution_count": 7,
   "metadata": {
    "colab": {},
    "colab_type": "code",
    "executionInfo": {
     "elapsed": 864,
     "status": "ok",
     "timestamp": 1597398584827,
     "user": {
      "displayName": "Kane",
      "photoUrl": "https://lh3.googleusercontent.com/a-/AOh14Gg-OYK-q_VDiB1MYMLMSc0vv5Vp8oVtKBNeSjfo=s64",
      "userId": "16107101568353036922"
     },
     "user_tz": -480
    },
    "id": "uV52GrhNQjX5"
   },
   "outputs": [],
   "source": [
    "data = pd.read_hdf(r\"goodcenterline.h5\")"
   ]
  },
  {
   "cell_type": "code",
   "execution_count": 8,
   "metadata": {
    "colab": {
     "base_uri": "https://localhost:8080/",
     "height": 255
    },
    "colab_type": "code",
    "executionInfo": {
     "elapsed": 1216,
     "status": "ok",
     "timestamp": 1597398588862,
     "user": {
      "displayName": "Kane",
      "photoUrl": "https://lh3.googleusercontent.com/a-/AOh14Gg-OYK-q_VDiB1MYMLMSc0vv5Vp8oVtKBNeSjfo=s64",
      "userId": "16107101568353036922"
     },
     "user_tz": -480
    },
    "id": "-l6gz1kLQesw",
    "outputId": "49352f03-0dcc-480d-f6a7-692460ae30f9"
   },
   "outputs": [
    {
     "name": "stdout",
     "output_type": "stream",
     "text": [
      "             lon        lat  count  loc_x  loc_y\n",
      "0     121.658977  38.963762    0.0    603    708\n",
      "1     121.660975  38.956770    0.0    601    709\n",
      "2     121.666093  38.961140    0.0    602    710\n",
      "3     121.672835  38.964136    0.0    603    711\n",
      "4     121.680825  38.966009    0.0    603    712\n",
      "...          ...        ...    ...    ...    ...\n",
      "4685  121.106755  37.960340  119.0    356    607\n",
      "4686  121.099957  37.961991  119.0    356    606\n",
      "4687  121.095463  37.967734  119.0    357    605\n",
      "4688  121.088466  37.969422  119.0    358    604\n",
      "4689  121.073932  37.996414  119.0    365    601\n",
      "\n",
      "[4690 rows x 5 columns]\n"
     ]
    }
   ],
   "source": [
    "data = data.reset_index(drop = True)\n",
    "data['loc_x'] = pd.cut(data['lat'], 1024, labels=False) #1024->8192 lat\n",
    "data['loc_y'] = pd.cut(data['lon'], 1024, labels=False) #1024->8192 lon\n",
    "print(data)"
   ]
  },
  {
   "cell_type": "markdown",
   "metadata": {
    "colab_type": "text",
    "id": "CqLIj4XZm8io"
   },
   "source": [
    "lon;lat"
   ]
  },
  {
   "cell_type": "code",
   "execution_count": null,
   "metadata": {
    "colab": {
     "base_uri": "https://localhost:8080/",
     "height": 419
    },
    "colab_type": "code",
    "executionInfo": {
     "elapsed": 1005,
     "status": "ok",
     "timestamp": 1596715263874,
     "user": {
      "displayName": "Kane",
      "photoUrl": "https://lh3.googleusercontent.com/a-/AOh14Gg-OYK-q_VDiB1MYMLMSc0vv5Vp8oVtKBNeSjfo=s64",
      "userId": "16107101568353036922"
     },
     "user_tz": -480
    },
    "id": "IOKWhPnihKJo",
    "outputId": "62e01f9b-ccf1-4efc-b389-de5974bf0077"
   },
   "outputs": [
    {
     "data": {
      "text/html": [
       "<div>\n",
       "<style scoped>\n",
       "    .dataframe tbody tr th:only-of-type {\n",
       "        vertical-align: middle;\n",
       "    }\n",
       "\n",
       "    .dataframe tbody tr th {\n",
       "        vertical-align: top;\n",
       "    }\n",
       "\n",
       "    .dataframe thead th {\n",
       "        text-align: right;\n",
       "    }\n",
       "</style>\n",
       "<table border=\"1\" class=\"dataframe\">\n",
       "  <thead>\n",
       "    <tr style=\"text-align: right;\">\n",
       "      <th></th>\n",
       "      <th>lon</th>\n",
       "      <th>lat</th>\n",
       "      <th>count</th>\n",
       "      <th>loc_x</th>\n",
       "      <th>loc_y</th>\n",
       "      <th>filter</th>\n",
       "    </tr>\n",
       "  </thead>\n",
       "  <tbody>\n",
       "    <tr>\n",
       "      <th>0</th>\n",
       "      <td>119.037975</td>\n",
       "      <td>38.428636</td>\n",
       "      <td>0.0</td>\n",
       "      <td>1880</td>\n",
       "      <td>923</td>\n",
       "      <td>1</td>\n",
       "    </tr>\n",
       "    <tr>\n",
       "      <th>1</th>\n",
       "      <td>119.097831</td>\n",
       "      <td>38.505603</td>\n",
       "      <td>1.0</td>\n",
       "      <td>1956</td>\n",
       "      <td>965</td>\n",
       "      <td>1</td>\n",
       "    </tr>\n",
       "    <tr>\n",
       "      <th>2</th>\n",
       "      <td>123.238012</td>\n",
       "      <td>37.556155</td>\n",
       "      <td>2.0</td>\n",
       "      <td>1022</td>\n",
       "      <td>3868</td>\n",
       "      <td>0</td>\n",
       "    </tr>\n",
       "    <tr>\n",
       "      <th>3</th>\n",
       "      <td>123.238512</td>\n",
       "      <td>37.552035</td>\n",
       "      <td>2.0</td>\n",
       "      <td>1018</td>\n",
       "      <td>3869</td>\n",
       "      <td>0</td>\n",
       "    </tr>\n",
       "    <tr>\n",
       "      <th>4</th>\n",
       "      <td>123.242507</td>\n",
       "      <td>37.552170</td>\n",
       "      <td>2.0</td>\n",
       "      <td>1018</td>\n",
       "      <td>3872</td>\n",
       "      <td>0</td>\n",
       "    </tr>\n",
       "    <tr>\n",
       "      <th>...</th>\n",
       "      <td>...</td>\n",
       "      <td>...</td>\n",
       "      <td>...</td>\n",
       "      <td>...</td>\n",
       "      <td>...</td>\n",
       "      <td>...</td>\n",
       "    </tr>\n",
       "    <tr>\n",
       "      <th>9370</th>\n",
       "      <td>118.119607</td>\n",
       "      <td>38.379060</td>\n",
       "      <td>1366.0</td>\n",
       "      <td>1831</td>\n",
       "      <td>279</td>\n",
       "      <td>1</td>\n",
       "    </tr>\n",
       "    <tr>\n",
       "      <th>9371</th>\n",
       "      <td>118.060826</td>\n",
       "      <td>38.370739</td>\n",
       "      <td>1367.0</td>\n",
       "      <td>1823</td>\n",
       "      <td>238</td>\n",
       "      <td>1</td>\n",
       "    </tr>\n",
       "    <tr>\n",
       "      <th>9372</th>\n",
       "      <td>120.251770</td>\n",
       "      <td>39.173813</td>\n",
       "      <td>1368.0</td>\n",
       "      <td>2613</td>\n",
       "      <td>1774</td>\n",
       "      <td>0</td>\n",
       "    </tr>\n",
       "    <tr>\n",
       "      <th>9373</th>\n",
       "      <td>119.102977</td>\n",
       "      <td>38.463482</td>\n",
       "      <td>1369.0</td>\n",
       "      <td>1914</td>\n",
       "      <td>969</td>\n",
       "      <td>1</td>\n",
       "    </tr>\n",
       "    <tr>\n",
       "      <th>9374</th>\n",
       "      <td>120.408350</td>\n",
       "      <td>38.150341</td>\n",
       "      <td>1370.0</td>\n",
       "      <td>1606</td>\n",
       "      <td>1884</td>\n",
       "      <td>0</td>\n",
       "    </tr>\n",
       "  </tbody>\n",
       "</table>\n",
       "<p>9375 rows × 6 columns</p>\n",
       "</div>"
      ],
      "text/plain": [
       "             lon        lat   count  loc_x  loc_y  filter\n",
       "0     119.037975  38.428636     0.0   1880    923       1\n",
       "1     119.097831  38.505603     1.0   1956    965       1\n",
       "2     123.238012  37.556155     2.0   1022   3868       0\n",
       "3     123.238512  37.552035     2.0   1018   3869       0\n",
       "4     123.242507  37.552170     2.0   1018   3872       0\n",
       "...          ...        ...     ...    ...    ...     ...\n",
       "9370  118.119607  38.379060  1366.0   1831    279       1\n",
       "9371  118.060826  38.370739  1367.0   1823    238       1\n",
       "9372  120.251770  39.173813  1368.0   2613   1774       0\n",
       "9373  119.102977  38.463482  1369.0   1914    969       1\n",
       "9374  120.408350  38.150341  1370.0   1606   1884       0\n",
       "\n",
       "[9375 rows x 6 columns]"
      ]
     },
     "execution_count": 11,
     "metadata": {
      "tags": []
     },
     "output_type": "execute_result"
    }
   ],
   "source": [
    "# Filter data within the error range.\n",
    "def filter_loc(series):\n",
    "    x = series['lon']\n",
    "    y = series['lat']\n",
    "    if 117.881<=x<=118.197 and 38.337<=y<=38.457:\n",
    "        return 1\n",
    "    elif 118.266<=x<=119.163 and 38.369<=y<=38.891:\n",
    "        return 1\n",
    "    elif 121.749<=x<=122.143 and 38.581<=y<=38.806:\n",
    "        return 1\n",
    "    else:\n",
    "        return 0\n",
    "data['filter']= data.apply(filter_loc,axis =1)\n",
    "data"
   ]
  },
  {
   "cell_type": "code",
   "execution_count": null,
   "metadata": {
    "colab": {},
    "colab_type": "code",
    "id": "naoRez_ohKJs"
   },
   "outputs": [],
   "source": [
    "result = data[data['filter'] ==0]\n",
    "result = result.drop(['filter'],axis = 1)"
   ]
  },
  {
   "cell_type": "code",
   "execution_count": null,
   "metadata": {
    "colab": {
     "base_uri": "https://localhost:8080/",
     "height": 419
    },
    "colab_type": "code",
    "executionInfo": {
     "elapsed": 1085,
     "status": "ok",
     "timestamp": 1596715269483,
     "user": {
      "displayName": "Kane",
      "photoUrl": "https://lh3.googleusercontent.com/a-/AOh14Gg-OYK-q_VDiB1MYMLMSc0vv5Vp8oVtKBNeSjfo=s64",
      "userId": "16107101568353036922"
     },
     "user_tz": -480
    },
    "id": "V33H4r8xhKJu",
    "outputId": "0f3e05d2-43ae-486b-a3f7-f00779dde974"
   },
   "outputs": [
    {
     "data": {
      "text/html": [
       "<div>\n",
       "<style scoped>\n",
       "    .dataframe tbody tr th:only-of-type {\n",
       "        vertical-align: middle;\n",
       "    }\n",
       "\n",
       "    .dataframe tbody tr th {\n",
       "        vertical-align: top;\n",
       "    }\n",
       "\n",
       "    .dataframe thead th {\n",
       "        text-align: right;\n",
       "    }\n",
       "</style>\n",
       "<table border=\"1\" class=\"dataframe\">\n",
       "  <thead>\n",
       "    <tr style=\"text-align: right;\">\n",
       "      <th></th>\n",
       "      <th>lon</th>\n",
       "      <th>lat</th>\n",
       "      <th>count</th>\n",
       "      <th>loc_x</th>\n",
       "      <th>loc_y</th>\n",
       "    </tr>\n",
       "  </thead>\n",
       "  <tbody>\n",
       "    <tr>\n",
       "      <th>0</th>\n",
       "      <td>123.238012</td>\n",
       "      <td>37.556155</td>\n",
       "      <td>2.0</td>\n",
       "      <td>1022</td>\n",
       "      <td>3868</td>\n",
       "    </tr>\n",
       "    <tr>\n",
       "      <th>1</th>\n",
       "      <td>123.238512</td>\n",
       "      <td>37.552035</td>\n",
       "      <td>2.0</td>\n",
       "      <td>1018</td>\n",
       "      <td>3869</td>\n",
       "    </tr>\n",
       "    <tr>\n",
       "      <th>2</th>\n",
       "      <td>123.242507</td>\n",
       "      <td>37.552170</td>\n",
       "      <td>2.0</td>\n",
       "      <td>1018</td>\n",
       "      <td>3872</td>\n",
       "    </tr>\n",
       "    <tr>\n",
       "      <th>3</th>\n",
       "      <td>123.243006</td>\n",
       "      <td>37.548050</td>\n",
       "      <td>2.0</td>\n",
       "      <td>1014</td>\n",
       "      <td>3872</td>\n",
       "    </tr>\n",
       "    <tr>\n",
       "      <th>4</th>\n",
       "      <td>123.243505</td>\n",
       "      <td>37.543930</td>\n",
       "      <td>2.0</td>\n",
       "      <td>1010</td>\n",
       "      <td>3872</td>\n",
       "    </tr>\n",
       "    <tr>\n",
       "      <th>...</th>\n",
       "      <td>...</td>\n",
       "      <td>...</td>\n",
       "      <td>...</td>\n",
       "      <td>...</td>\n",
       "      <td>...</td>\n",
       "    </tr>\n",
       "    <tr>\n",
       "      <th>7351</th>\n",
       "      <td>120.273649</td>\n",
       "      <td>39.210205</td>\n",
       "      <td>1361.0</td>\n",
       "      <td>2649</td>\n",
       "      <td>1790</td>\n",
       "    </tr>\n",
       "    <tr>\n",
       "      <th>7352</th>\n",
       "      <td>120.270798</td>\n",
       "      <td>39.214949</td>\n",
       "      <td>1361.0</td>\n",
       "      <td>2653</td>\n",
       "      <td>1788</td>\n",
       "    </tr>\n",
       "    <tr>\n",
       "      <th>7353</th>\n",
       "      <td>120.268770</td>\n",
       "      <td>39.220380</td>\n",
       "      <td>1361.0</td>\n",
       "      <td>2659</td>\n",
       "      <td>1786</td>\n",
       "    </tr>\n",
       "    <tr>\n",
       "      <th>7354</th>\n",
       "      <td>120.251770</td>\n",
       "      <td>39.173813</td>\n",
       "      <td>1368.0</td>\n",
       "      <td>2613</td>\n",
       "      <td>1774</td>\n",
       "    </tr>\n",
       "    <tr>\n",
       "      <th>7355</th>\n",
       "      <td>120.408350</td>\n",
       "      <td>38.150341</td>\n",
       "      <td>1370.0</td>\n",
       "      <td>1606</td>\n",
       "      <td>1884</td>\n",
       "    </tr>\n",
       "  </tbody>\n",
       "</table>\n",
       "<p>7356 rows × 5 columns</p>\n",
       "</div>"
      ],
      "text/plain": [
       "             lon        lat   count  loc_x  loc_y\n",
       "0     123.238012  37.556155     2.0   1022   3868\n",
       "1     123.238512  37.552035     2.0   1018   3869\n",
       "2     123.242507  37.552170     2.0   1018   3872\n",
       "3     123.243006  37.548050     2.0   1014   3872\n",
       "4     123.243505  37.543930     2.0   1010   3872\n",
       "...          ...        ...     ...    ...    ...\n",
       "7351  120.273649  39.210205  1361.0   2649   1790\n",
       "7352  120.270798  39.214949  1361.0   2653   1788\n",
       "7353  120.268770  39.220380  1361.0   2659   1786\n",
       "7354  120.251770  39.173813  1368.0   2613   1774\n",
       "7355  120.408350  38.150341  1370.0   1606   1884\n",
       "\n",
       "[7356 rows x 5 columns]"
      ]
     },
     "execution_count": 13,
     "metadata": {
      "tags": []
     },
     "output_type": "execute_result"
    }
   ],
   "source": [
    "result = result.reset_index(drop=True)\n",
    "result"
   ]
  },
  {
   "cell_type": "code",
   "execution_count": null,
   "metadata": {
    "colab": {},
    "colab_type": "code",
    "id": "tyFXc-dThKJ3"
   },
   "outputs": [],
   "source": [
    "def flip180(arr):\n",
    "    new_arr = arr.reshape(arr.size)\n",
    "    new_arr = new_arr[::-1]\n",
    "    new_arr = new_arr.reshape(arr.shape)\n",
    "    return new_arr\n",
    "\n",
    "def flip90_left(arr):\n",
    "    new_arr = np.transpose(arr)\n",
    "    new_arr = new_arr[::-1]\n",
    "    return new_arr\n",
    "\n",
    "def flip90_right(arr):\n",
    "    new_arr = arr.reshape(arr.size)\n",
    "    new_arr = new_arr[::-1]\n",
    "    new_arr = new_arr.reshape(arr.shape)\n",
    "    new_arr = np.transpose(new_arr)[::-1]\n",
    "    return new_arr\n"
   ]
  },
  {
   "cell_type": "code",
   "execution_count": 9,
   "metadata": {
    "colab": {
     "base_uri": "https://localhost:8080/",
     "height": 34
    },
    "colab_type": "code",
    "executionInfo": {
     "elapsed": 877,
     "status": "ok",
     "timestamp": 1597398607126,
     "user": {
      "displayName": "Kane",
      "photoUrl": "https://lh3.googleusercontent.com/a-/AOh14Gg-OYK-q_VDiB1MYMLMSc0vv5Vp8oVtKBNeSjfo=s64",
      "userId": "16107101568353036922"
     },
     "user_tz": -480
    },
    "id": "Go4GsdW1hKJx",
    "outputId": "bf7f51da-023f-49a8-d4c9-b31d0a7e2ca5"
   },
   "outputs": [
    {
     "data": {
      "text/plain": [
       "True"
      ]
     },
     "execution_count": 9,
     "metadata": {
      "tags": []
     },
     "output_type": "execute_result"
    }
   ],
   "source": [
    "# centerline.png\n",
    "import cv2\n",
    "ship_group = data.groupby('count') #result\n",
    "center_line = np.zeros((1024,1024), dtype=np.uint8) #1024->8192\n",
    "for count,group in ship_group:\n",
    "    group = group.reset_index(drop = True)\n",
    "    temp = np.zeros((1024,1024), dtype=np.uint8) #1024->8192\n",
    "    for i in range(len(group)):\n",
    "        if i != len(group)-1:\n",
    "            now_x = group.loc[i,'loc_x']\n",
    "            now_y = group.loc[i,'loc_y']\n",
    "            next_x = group.loc[i+1,'loc_x']\n",
    "            next_y = group.loc[i+1,'loc_y']\n",
    "            if now_x == next_x and now_y == next_y:\n",
    "                continue\n",
    "            else:\n",
    "                cv2.line(temp, (now_x, now_y), (next_x, next_y), 255, 1, lineType=cv2.LINE_8)\n",
    "    center_line = cv2.add(center_line,temp)\n",
    "#center_line = flip180(center_line)\n",
    "cv2.imwrite(r'goodcenterline.png', center_line)"
   ]
  },
  {
   "cell_type": "code",
   "execution_count": null,
   "metadata": {
    "colab": {
     "base_uri": "https://localhost:8080/",
     "height": 34
    },
    "colab_type": "code",
    "executionInfo": {
     "elapsed": 809,
     "status": "ok",
     "timestamp": 1596717999711,
     "user": {
      "displayName": "Kane",
      "photoUrl": "https://lh3.googleusercontent.com/a-/AOh14Gg-OYK-q_VDiB1MYMLMSc0vv5Vp8oVtKBNeSjfo=s64",
      "userId": "16107101568353036922"
     },
     "user_tz": -480
    },
    "id": "skDfKVU7hKJ1",
    "outputId": "6ce193e2-2ea8-4103-cbaf-27b4c4cf9545"
   },
   "outputs": [
    {
     "data": {
      "text/plain": [
       "True"
      ]
     },
     "execution_count": 66,
     "metadata": {
      "tags": []
     },
     "output_type": "execute_result"
    }
   ],
   "source": [
    "# Draw region.png\n",
    "centerline_img = cv2.imread(r'cycleGAN_input/goodcenterline256.png', cv2.IMREAD_GRAYSCALE)\n",
    "centerline_pixels = np.where(centerline_img == 255)\n",
    "H, W = centerline_img.shape\n",
    "radius = 2\n",
    "region_img = np.zeros(centerline_img.shape, dtype=np.uint8)\n",
    "for i, j in list(zip(centerline_pixels[0], centerline_pixels[1])):\n",
    "    for y in range(max(i-radius, 0), min(i+radius+1, H)):\n",
    "        for x in range(max(j-radius, 0), min(j+radius+1, W)):\n",
    "            region_img[y, x] = 255\n",
    "cv2.imwrite(os.path.join(r'cycleGAN_input/goodregion256.png'), region_img)"
   ]
  }
 ],
 "metadata": {
  "colab": {
   "collapsed_sections": [],
   "name": "label_data.ipynb",
   "provenance": []
  },
  "kernelspec": {
   "display_name": "Python 3",
   "language": "python",
   "name": "python3"
  },
  "language_info": {
   "codemirror_mode": {
    "name": "ipython",
    "version": 3
   },
   "file_extension": ".py",
   "mimetype": "text/x-python",
   "name": "python",
   "nbconvert_exporter": "python",
   "pygments_lexer": "ipython3",
   "version": "3.7.0"
  }
 },
 "nbformat": 4,
 "nbformat_minor": 1
}
