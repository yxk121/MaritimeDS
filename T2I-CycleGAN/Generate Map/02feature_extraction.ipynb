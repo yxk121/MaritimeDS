{
 "cells": [
  {
   "cell_type": "code",
   "execution_count": 12,
   "metadata": {
    "colab": {},
    "colab_type": "code",
    "executionInfo": {
     "elapsed": 680,
     "status": "ok",
     "timestamp": 1600258757984,
     "user": {
      "displayName": "Kane",
      "photoUrl": "https://lh3.googleusercontent.com/a-/AOh14Gg-OYK-q_VDiB1MYMLMSc0vv5Vp8oVtKBNeSjfo=s64",
      "userId": "16107101568353036922"
     },
     "user_tz": -480
    },
    "id": "--FF-9AahNZb"
   },
   "outputs": [],
   "source": [
    "import pandas as pd\n",
    "import numpy as np"
   ]
  },
  {
   "cell_type": "code",
   "execution_count": 13,
   "metadata": {
    "colab": {},
    "colab_type": "code",
    "executionInfo": {
     "elapsed": 659,
     "status": "ok",
     "timestamp": 1600258759073,
     "user": {
      "displayName": "Kane",
      "photoUrl": "https://lh3.googleusercontent.com/a-/AOh14Gg-OYK-q_VDiB1MYMLMSc0vv5Vp8oVtKBNeSjfo=s64",
      "userId": "16107101568353036922"
     },
     "user_tz": -480
    },
    "id": "o-L3ahOdhNZf"
   },
   "outputs": [],
   "source": [
    "data = pd.read_hdf(r\"20160607roadnet.h5\")"
   ]
  },
  {
   "cell_type": "code",
   "execution_count": 14,
   "metadata": {
    "colab": {
     "base_uri": "https://localhost:8080/",
     "height": 255
    },
    "colab_type": "code",
    "executionInfo": {
     "elapsed": 1257,
     "status": "ok",
     "timestamp": 1600258761882,
     "user": {
      "displayName": "Kane",
      "photoUrl": "https://lh3.googleusercontent.com/a-/AOh14Gg-OYK-q_VDiB1MYMLMSc0vv5Vp8oVtKBNeSjfo=s64",
      "userId": "16107101568353036922"
     },
     "user_tz": -480
    },
    "id": "TptRo77BhNZh",
    "outputId": "a8ff30ba-e049-410c-a4db-067eb6880179"
   },
   "outputs": [
    {
     "name": "stdout",
     "output_type": "stream",
     "text": [
      "           lon        lat  count\n",
      "0   122.019528  38.188689    0.0\n",
      "1   122.018351  38.190219    0.0\n",
      "2   122.017174  38.191749    0.0\n",
      "3   122.018298  38.192186    0.0\n",
      "4   122.020656  38.193490    0.0\n",
      "..         ...        ...    ...\n",
      "95  120.446174  39.107302  397.0\n",
      "96  120.442741  39.110236  397.0\n",
      "97  120.439183  39.113419  397.0\n",
      "98  120.437934  39.112889  397.0\n",
      "99  120.421018  39.107236  397.0\n",
      "\n",
      "[10511 rows x 3 columns]\n"
     ]
    }
   ],
   "source": [
    "print(data)"
   ]
  },
  {
   "cell_type": "code",
   "execution_count": null,
   "metadata": {
    "colab": {},
    "colab_type": "code",
    "id": "F6nsHwGKW_wt"
   },
   "outputs": [],
   "source": [
    "#This section can be used to rotate the images if the dataset size is small.\n",
    "def flip180(arr):\n",
    "    new_arr = arr.reshape(arr.size)\n",
    "    new_arr = new_arr[::-1]\n",
    "    new_arr = new_arr.reshape(arr.shape)\n",
    "    return new_arr\n",
    "\n",
    "def flip90_left(arr):\n",
    "    new_arr = np.transpose(arr)\n",
    "    new_arr = new_arr[::-1]\n",
    "    return new_arr\n",
    "\n",
    "def flip90_right(arr):\n",
    "    new_arr = arr.reshape(arr.size)\n",
    "    new_arr = new_arr[::-1]\n",
    "    new_arr = new_arr.reshape(arr.shape)\n",
    "    new_arr = np.transpose(new_arr)[::-1]\n",
    "    return new_arr\n"
   ]
  },
  {
   "cell_type": "code",
   "execution_count": 15,
   "metadata": {
    "colab": {
     "base_uri": "https://localhost:8080/",
     "height": 255
    },
    "colab_type": "code",
    "executionInfo": {
     "elapsed": 612,
     "status": "ok",
     "timestamp": 1600258772057,
     "user": {
      "displayName": "Kane",
      "photoUrl": "https://lh3.googleusercontent.com/a-/AOh14Gg-OYK-q_VDiB1MYMLMSc0vv5Vp8oVtKBNeSjfo=s64",
      "userId": "16107101568353036922"
     },
     "user_tz": -480
    },
    "id": "fYwq_bq2hNZk",
    "outputId": "9d19e556-e875-4c8e-b6ac-04b86580b752"
   },
   "outputs": [
    {
     "name": "stdout",
     "output_type": "stream",
     "text": [
      "              lon        lat  count  loc_x  loc_y\n",
      "0      122.019528  38.188689    0.0    406    711\n",
      "1      122.018351  38.190219    0.0    406    711\n",
      "2      122.017174  38.191749    0.0    407    711\n",
      "3      122.018298  38.192186    0.0    407    711\n",
      "4      122.020656  38.193490    0.0    407    711\n",
      "...           ...        ...    ...    ...    ...\n",
      "10506  120.446174  39.107302  397.0    628    453\n",
      "10507  120.442741  39.110236  397.0    629    452\n",
      "10508  120.439183  39.113419  397.0    630    451\n",
      "10509  120.437934  39.112889  397.0    630    451\n",
      "10510  120.421018  39.107236  397.0    628    448\n",
      "\n",
      "[10511 rows x 5 columns]\n"
     ]
    }
   ],
   "source": [
    "data = data.reset_index(drop = True)\n",
    "data['loc_x'] = pd.cut(data['lat'], 1024, labels=False) #1024->8192 lat\n",
    "data['loc_y'] = pd.cut(data['lon'], 1024, labels=False) #1024->8192 lon\n",
    "print(data)"
   ]
  },
  {
   "cell_type": "markdown",
   "metadata": {
    "colab_type": "text",
    "id": "SJMe0hvKd4mx"
   },
   "source": [
    "If the parameter is lon; lat then it is mirror processing."
   ]
  },
  {
   "cell_type": "code",
   "execution_count": 18,
   "metadata": {
    "colab": {
     "base_uri": "https://localhost:8080/",
     "height": 34
    },
    "colab_type": "code",
    "executionInfo": {
     "elapsed": 1816,
     "status": "ok",
     "timestamp": 1600258974675,
     "user": {
      "displayName": "Kane",
      "photoUrl": "https://lh3.googleusercontent.com/a-/AOh14Gg-OYK-q_VDiB1MYMLMSc0vv5Vp8oVtKBNeSjfo=s64",
      "userId": "16107101568353036922"
     },
     "user_tz": -480
    },
    "id": "A4rv9he5hNZm",
    "outputId": "34086aa3-5664-40a6-9b2d-a70357172480",
    "scrolled": false
   },
   "outputs": [
    {
     "data": {
      "text/plain": [
       "True"
      ]
     },
     "execution_count": 18,
     "metadata": {
      "tags": []
     },
     "output_type": "execute_result"
    }
   ],
   "source": [
    "# point_png\n",
    "import cv2\n",
    "import os\n",
    "point = np.zeros((1024,1024)) #1024->8192\n",
    "cell = data.groupby(['loc_x','loc_y'])\n",
    "for loc,group in cell:\n",
    "    point[loc[1]][loc[0]] = len(group) #0 1\n",
    "point = point / 2 * 255\n",
    "point[point > 255] = 255\n",
    "#point = flip180(point)\n",
    "cv2.imwrite(r'articlepics/roadnetpoint.png', point)"
   ]
  },
  {
   "cell_type": "code",
   "execution_count": 16,
   "metadata": {
    "colab": {},
    "colab_type": "code",
    "executionInfo": {
     "elapsed": 679,
     "status": "ok",
     "timestamp": 1600258781071,
     "user": {
      "displayName": "Kane",
      "photoUrl": "https://lh3.googleusercontent.com/a-/AOh14Gg-OYK-q_VDiB1MYMLMSc0vv5Vp8oVtKBNeSjfo=s64",
      "userId": "16107101568353036922"
     },
     "user_tz": -480
    },
    "id": "yI43BFKxhNZp"
   },
   "outputs": [],
   "source": [
    "import math\n",
    "def distence(lon_1,lat_1,lon_2,lat_2):\n",
    "    a = math.radians(lat_1)-math.radians(lat_2)\n",
    "    b = math.radians(lon_1)-math.radians(lon_2)\n",
    "    r = 6378137\n",
    "    temp = (math.sin(a/2))**2+((math.sin(b/2))**2)*math.cos(lat_1)*math.cos(lat_2)\n",
    "    if temp>1:\n",
    "        temp =1\n",
    "    elif temp<0:\n",
    "        temp = 0\n",
    "    temp = 2*math.asin(temp**0.5)*r\n",
    "    return temp"
   ]
  },
  {
   "cell_type": "code",
   "execution_count": 17,
   "metadata": {
    "colab": {
     "base_uri": "https://localhost:8080/",
     "height": 697
    },
    "colab_type": "code",
    "executionInfo": {
     "elapsed": 1959,
     "status": "ok",
     "timestamp": 1600258835536,
     "user": {
      "displayName": "Kane",
      "photoUrl": "https://lh3.googleusercontent.com/a-/AOh14Gg-OYK-q_VDiB1MYMLMSc0vv5Vp8oVtKBNeSjfo=s64",
      "userId": "16107101568353036922"
     },
     "user_tz": -480
    },
    "id": "UzrrJTjQhNZr",
    "outputId": "07d5beb3-2b85-4458-ed96-6a64c20cdd77"
   },
   "outputs": [
    {
     "name": "stdout",
     "output_type": "stream",
     "text": [
      "10\n",
      "20\n",
      "30\n",
      "40\n",
      "50\n",
      "60\n",
      "70\n",
      "80\n",
      "90\n",
      "100\n",
      "110\n",
      "120\n",
      "130\n",
      "140\n",
      "150\n",
      "160\n",
      "170\n",
      "180\n",
      "190\n",
      "200\n",
      "210\n",
      "220\n",
      "230\n",
      "240\n",
      "250\n",
      "260\n",
      "270\n",
      "280\n",
      "290\n",
      "300\n",
      "310\n",
      "320\n",
      "330\n",
      "340\n",
      "350\n",
      "360\n",
      "370\n",
      "380\n",
      "390\n"
     ]
    },
    {
     "data": {
      "text/plain": [
       "True"
      ]
     },
     "execution_count": 17,
     "metadata": {
      "tags": []
     },
     "output_type": "execute_result"
    }
   ],
   "source": [
    "# Draw line.png\n",
    "import cv2\n",
    "import os\n",
    "line_img = np.zeros((1024,1024), dtype=np.uint8)#1024->8192\n",
    "ship_count = 0\n",
    "#print(data)\n",
    "ship_group = data.groupby('count') #mmsi\n",
    "for mmsi,group in ship_group:\n",
    "    #group = group.sort_values(axis = 0,ascending = False,by = ['utc'])\n",
    "    group = group.reset_index(drop = True)\n",
    "    temp = np.zeros((1024,1024), dtype=np.uint8)#1024->8192\n",
    "    for i in range(len(group)):\n",
    "        if i != len(group)-1:\n",
    "            now_lon = group.loc[i,'lon']\n",
    "            now_lat = group.loc[i,'lat']\n",
    "            now_x = group.loc[i,'loc_x']\n",
    "            now_y = group.loc[i,'loc_y']\n",
    "            next_lon = group.loc[i+1,'lon']\n",
    "            next_lat = group.loc[i+1,'lat']\n",
    "            next_x = group.loc[i+1,'loc_x']\n",
    "            next_y = group.loc[i+1,'loc_y']\n",
    "            dist = distence(now_lon,now_lat,next_lon,next_lat)\n",
    "            if 25<=dist<=20000: # 200-20000\n",
    "                cv2.line(temp, (now_x,now_y), (next_x,next_y), 128, 1, lineType=cv2.LINE_AA)\n",
    "    line_img = cv2.add(line_img,temp)\n",
    "    ship_count += 1\n",
    "    if ship_count % 10 ==0:\n",
    "        print(ship_count)\n",
    "#line_img=flip180(line_img)\n",
    "cv2.imwrite(r'articlepics/20160607roadnet2.png', line_img)"
   ]
  },
  {
   "cell_type": "code",
   "execution_count": null,
   "metadata": {
    "colab": {
     "base_uri": "https://localhost:8080/",
     "height": 255
    },
    "colab_type": "code",
    "executionInfo": {
     "elapsed": 916,
     "status": "ok",
     "timestamp": 1596904612633,
     "user": {
      "displayName": "Kane",
      "photoUrl": "https://lh3.googleusercontent.com/a-/AOh14Gg-OYK-q_VDiB1MYMLMSc0vv5Vp8oVtKBNeSjfo=s64",
      "userId": "16107101568353036922"
     },
     "user_tz": -480
    },
    "id": "QWEbNZzFSH-B",
    "outputId": "4e41e4de-cf16-436f-aa93-55a99c3b2061"
   },
   "outputs": [
    {
     "name": "stdout",
     "output_type": "stream",
     "text": [
      "               utc       mmsi         lon        lat  loc_x  loc_y\n",
      "0       1454257939  273338510  121.870667  39.005092   2911   2438\n",
      "1       1454258125  273338510  121.870642  39.005075   2911   2438\n",
      "2       1454258301  273338510  121.870657  39.005090   2911   2438\n",
      "3       1454258479  273338510  121.870652  39.005053   2911   2438\n",
      "4       1454258654  273338510  121.870650  39.005097   2911   2438\n",
      "...            ...        ...         ...        ...    ...    ...\n",
      "523952  1454811049  677063700  122.432588  36.826335   3302    317\n",
      "523953  1454812135  677063700  122.432580  36.826308   3302    317\n",
      "523954  1454813215  677063700  122.432602  36.826292   3302    317\n",
      "523955  1454815014  677063700  122.432602  36.826345   3302    317\n",
      "523956  1454816097  677063700  122.432648  36.826278   3302    317\n",
      "\n",
      "[523957 rows x 6 columns]\n"
     ]
    }
   ],
   "source": [
    "data = data.reset_index(drop = True)\n",
    "data['loc_x'] = pd.cut(data['lon'], 4096, labels=False) #1024->8192 lat\n",
    "data['loc_y'] = pd.cut(data['lat'], 4096, labels=False) #1024->8192 lon\n",
    "print(data)"
   ]
  },
  {
   "cell_type": "markdown",
   "metadata": {
    "colab_type": "text",
    "id": "MJs2olqQSj94"
   },
   "source": [
    "If the parameter is lon; lat then it is mirror processing."
   ]
  },
  {
   "cell_type": "code",
   "execution_count": null,
   "metadata": {
    "colab": {
     "base_uri": "https://localhost:8080/",
     "height": 538
    },
    "colab_type": "code",
    "executionInfo": {
     "elapsed": 45287,
     "status": "ok",
     "timestamp": 1596904998239,
     "user": {
      "displayName": "Kane",
      "photoUrl": "https://lh3.googleusercontent.com/a-/AOh14Gg-OYK-q_VDiB1MYMLMSc0vv5Vp8oVtKBNeSjfo=s64",
      "userId": "16107101568353036922"
     },
     "user_tz": -480
    },
    "id": "JuZ_PGYchNZu",
    "outputId": "a2f72f66-8b3b-43be-d32a-c539e767237d"
   },
   "outputs": [
    {
     "name": "stdout",
     "output_type": "stream",
     "text": [
      "10\n",
      "20\n",
      "30\n",
      "40\n",
      "50\n",
      "60\n",
      "70\n"
     ]
    },
    {
     "data": {
      "text/html": [
       "<div>\n",
       "<style scoped>\n",
       "    .dataframe tbody tr th:only-of-type {\n",
       "        vertical-align: middle;\n",
       "    }\n",
       "\n",
       "    .dataframe tbody tr th {\n",
       "        vertical-align: top;\n",
       "    }\n",
       "\n",
       "    .dataframe thead th {\n",
       "        text-align: right;\n",
       "    }\n",
       "</style>\n",
       "<table border=\"1\" class=\"dataframe\">\n",
       "  <thead>\n",
       "    <tr style=\"text-align: right;\">\n",
       "      <th></th>\n",
       "      <th>speed</th>\n",
       "    </tr>\n",
       "  </thead>\n",
       "  <tbody>\n",
       "    <tr>\n",
       "      <th>0</th>\n",
       "      <td>7.706997</td>\n",
       "    </tr>\n",
       "    <tr>\n",
       "      <th>1</th>\n",
       "      <td>7.961044</td>\n",
       "    </tr>\n",
       "    <tr>\n",
       "      <th>2</th>\n",
       "      <td>7.958187</td>\n",
       "    </tr>\n",
       "    <tr>\n",
       "      <th>3</th>\n",
       "      <td>7.955326</td>\n",
       "    </tr>\n",
       "    <tr>\n",
       "      <th>4</th>\n",
       "      <td>7.952461</td>\n",
       "    </tr>\n",
       "    <tr>\n",
       "      <th>...</th>\n",
       "      <td>...</td>\n",
       "    </tr>\n",
       "    <tr>\n",
       "      <th>217382</th>\n",
       "      <td>0.021732</td>\n",
       "    </tr>\n",
       "    <tr>\n",
       "      <th>217383</th>\n",
       "      <td>0.003901</td>\n",
       "    </tr>\n",
       "    <tr>\n",
       "      <th>217384</th>\n",
       "      <td>0.020543</td>\n",
       "    </tr>\n",
       "    <tr>\n",
       "      <th>217385</th>\n",
       "      <td>0.008921</td>\n",
       "    </tr>\n",
       "    <tr>\n",
       "      <th>217386</th>\n",
       "      <td>0.112777</td>\n",
       "    </tr>\n",
       "  </tbody>\n",
       "</table>\n",
       "<p>217387 rows × 1 columns</p>\n",
       "</div>"
      ],
      "text/plain": [
       "           speed\n",
       "0       7.706997\n",
       "1       7.961044\n",
       "2       7.958187\n",
       "3       7.955326\n",
       "4       7.952461\n",
       "...          ...\n",
       "217382  0.021732\n",
       "217383  0.003901\n",
       "217384  0.020543\n",
       "217385  0.008921\n",
       "217386  0.112777\n",
       "\n",
       "[217387 rows x 1 columns]"
      ]
     },
     "execution_count": 27,
     "metadata": {
      "tags": []
     },
     "output_type": "execute_result"
    }
   ],
   "source": [
    "# speed threshold\n",
    "speed_list = []\n",
    "ship_count = 0\n",
    "ship_group = data.groupby('mmsi')\n",
    "for mmsi,group in ship_group:\n",
    "    group = group.sort_values(axis = 0,ascending = False,by = ['utc'])\n",
    "    group = group.reset_index(drop = True)\n",
    "    temp = np.zeros((4096,4096), dtype=np.uint8)#1024->8192\n",
    "    for i in range(len(group)):\n",
    "        if i != len(group)-1:\n",
    "            now_lon = group.loc[i,'lon']\n",
    "            now_lat = group.loc[i,'lat']\n",
    "            now_x = group.loc[i,'loc_x']\n",
    "            now_y = group.loc[i,'loc_y']\n",
    "            now_time = group.loc[i,'utc']\n",
    "            next_lon = group.loc[i+1,'lon']\n",
    "            next_lat = group.loc[i+1,'lat']\n",
    "            next_x = group.loc[i+1,'loc_x']\n",
    "            next_y = group.loc[i+1,'loc_y']\n",
    "            next_time = group.loc[i+1,'utc']\n",
    "            dist = distence(now_lon,now_lat,next_lon,next_lat)\n",
    "            if 25<=dist<=20000:\n",
    "                speed = dist/(abs(now_time-next_time))\n",
    "                speed_list.append(speed)\n",
    "    ship_count += 1\n",
    "    if ship_count % 10 ==0:\n",
    "        print(ship_count)\n",
    "data_speed = pd.DataFrame({'speed':speed_list})\n",
    "data_speed"
   ]
  },
  {
   "cell_type": "code",
   "execution_count": null,
   "metadata": {
    "colab": {
     "base_uri": "https://localhost:8080/",
     "height": 279
    },
    "colab_type": "code",
    "executionInfo": {
     "elapsed": 1044,
     "status": "ok",
     "timestamp": 1595947158257,
     "user": {
      "displayName": "Kane",
      "photoUrl": "https://lh3.googleusercontent.com/a-/AOh14Gg-OYK-q_VDiB1MYMLMSc0vv5Vp8oVtKBNeSjfo=s64",
      "userId": "16107101568353036922"
     },
     "user_tz": -480
    },
    "id": "k3TzwnPlkr9K",
    "outputId": "e6e32a01-1db2-4030-e48a-9ef5e94d9a8d"
   },
   "outputs": [
    {
     "data": {
      "image/png": "[encoded data removed]",
      "text/plain": [
       "<Figure size 432x288 with 1 Axes>"
      ]
     },
     "metadata": {
      "needs_background": "light",
      "tags": []
     },
     "output_type": "display_data"
    }
   ],
   "source": [
    "import matplotlib.pyplot as plt\n",
    "import numpy as np\n",
    "import matplotlib\n",
    "\n",
    "matplotlib.rcParams['font.sans-serif']=['SimHei']\n",
    "matplotlib.rcParams['axes.unicode_minus']=False\n",
    "data = np.random.randn(10000)\n",
    "\"\"\"\n",
    "plt.hist(speed_list, facecolor=\"blue\", edgecolor=\"black\", alpha=0.7)\n",
    "plt.xlabel(\"speed\")\n",
    "plt.ylabel(\"times\")\n",
    "# plt.title(\"Frequency/Frequency distribution histogram \")\n",
    "plt.show()"
   ]
  },
  {
   "cell_type": "code",
   "execution_count": null,
   "metadata": {
    "colab": {
     "base_uri": "https://localhost:8080/",
     "height": 51
    },
    "colab_type": "code",
    "executionInfo": {
     "elapsed": 15592,
     "status": "ok",
     "timestamp": 1596014329171,
     "user": {
      "displayName": "Kane",
      "photoUrl": "https://lh3.googleusercontent.com/a-/AOh14Gg-OYK-q_VDiB1MYMLMSc0vv5Vp8oVtKBNeSjfo=s64",
      "userId": "16107101568353036922"
     },
     "user_tz": -480
    },
    "id": "utmXafVmxdQL",
    "outputId": "456c6f21-9f83-412a-b92b-e225cf9b60c5"
   },
   "outputs": [
    {
     "name": "stdout",
     "output_type": "stream",
     "text": [
      "12755\n",
      "0\n"
     ]
    }
   ],
   "source": [
    "count = 0\n",
    "count_0 = 0\n",
    "for i, row in data_speed.T.iteritems():\n",
    "    if row['speed'] < 1:\n",
    "        count += 1\n",
    "    \n",
    "    if row['speed'] == 0:\n",
    "        count_0 += 1\n",
    "\n",
    "print(count)\n",
    "print(count_0)\n"
   ]
  },
  {
   "cell_type": "code",
   "execution_count": null,
   "metadata": {
    "colab": {
     "base_uri": "https://localhost:8080/",
     "height": 34
    },
    "colab_type": "code",
    "executionInfo": {
     "elapsed": 1190,
     "status": "ok",
     "timestamp": 1595926273654,
     "user": {
      "displayName": "Kane",
      "photoUrl": "https://lh3.googleusercontent.com/a-/AOh14Gg-OYK-q_VDiB1MYMLMSc0vv5Vp8oVtKBNeSjfo=s64",
      "userId": "16107101568353036922"
     },
     "user_tz": -480
    },
    "id": "SIV3Ct4rhNZx",
    "outputId": "3c6e7b9e-c44e-456b-a299-faa9a0944896"
   },
   "outputs": [
    {
     "name": "stdout",
     "output_type": "stream",
     "text": [
      "13.790965623625715\n"
     ]
    }
   ],
   "source": [
    "print(max(data_speed['speed']))"
   ]
  },
  {
   "cell_type": "code",
   "execution_count": null,
   "metadata": {
    "colab": {},
    "colab_type": "code",
    "id": "kugDTcv-hNZz"
   },
   "outputs": [],
   "source": [
    "data_speed['cut'] = pd.cut(data_speed['speed'], 1024, labels=False)#1024->8192\n",
    "dict_2 = dict()\n",
    "data_speed = data_speed.sort_values(axis = 0,ascending = False,by = ['cut'])\n",
    "cut_group = data_speed.groupby('cut')\n",
    "for cut,group in cut_group:\n",
    "    dict_2[cut] = len(group)\n",
    "dict_2"
   ]
  },
  {
   "cell_type": "code",
   "execution_count": null,
   "metadata": {
    "colab": {
     "base_uri": "https://localhost:8080/",
     "height": 34
    },
    "colab_type": "code",
    "executionInfo": {
     "elapsed": 911,
     "status": "ok",
     "timestamp": 1596015946207,
     "user": {
      "displayName": "Kane",
      "photoUrl": "https://lh3.googleusercontent.com/a-/AOh14Gg-OYK-q_VDiB1MYMLMSc0vv5Vp8oVtKBNeSjfo=s64",
      "userId": "16107101568353036922"
     },
     "user_tz": -480
    },
    "id": "SP7fdAs_hNZ1",
    "outputId": "dd490cf3-893e-446b-e598-1173ae2cd5be"
   },
   "outputs": [
    {
     "name": "stdout",
     "output_type": "stream",
     "text": [
      "0.013467689513938496\n"
     ]
    }
   ],
   "source": [
    "long = max(speed_list)-min(speed_list)\n",
    "print(long/1024*1)#1024->8192"
   ]
  },
  {
   "cell_type": "code",
   "execution_count": null,
   "metadata": {
    "colab": {
     "base_uri": "https://localhost:8080/",
     "height": 136
    },
    "colab_type": "code",
    "executionInfo": {
     "elapsed": 48328,
     "status": "ok",
     "timestamp": 1596905157317,
     "user": {
      "displayName": "Kane",
      "photoUrl": "https://lh3.googleusercontent.com/a-/AOh14Gg-OYK-q_VDiB1MYMLMSc0vv5Vp8oVtKBNeSjfo=s64",
      "userId": "16107101568353036922"
     },
     "user_tz": -480
    },
    "id": "mLrysUtRhNZ3",
    "outputId": "c9df5070-471f-4f6e-88cf-a671c635c6f3"
   },
   "outputs": [
    {
     "name": "stdout",
     "output_type": "stream",
     "text": [
      "10\n",
      "20\n",
      "30\n",
      "40\n",
      "50\n",
      "60\n",
      "70\n"
     ]
    }
   ],
   "source": [
    "# speed.npy\n",
    "speed_data = np.zeros((4096, 4096, 1), dtype=np.float)#1024->8192\n",
    "count_data = np.zeros((4096, 4096, 1), dtype=np.float)\n",
    "ship_count = 0\n",
    "over_speed = 0\n",
    "for mmsi,group in ship_group:\n",
    "    group = group.sort_values(axis = 0,ascending = False,by = ['utc'])\n",
    "    group = group.reset_index(drop = True)\n",
    "    temp = np.zeros((4096,4096), dtype=np.uint8)\n",
    "    for i in range(len(group)):\n",
    "        if i != len(group)-1:\n",
    "            now_lon = group.loc[i,'lon']\n",
    "            now_lat = group.loc[i,'lat']\n",
    "            now_x = group.loc[i,'loc_x']\n",
    "            now_y = group.loc[i,'loc_y']\n",
    "            now_time = group.loc[i,'utc']\n",
    "            next_lon = group.loc[i+1,'lon']\n",
    "            next_lat = group.loc[i+1,'lat']\n",
    "            next_x = group.loc[i+1,'loc_x']\n",
    "            next_y = group.loc[i+1,'loc_y']\n",
    "            next_time = group.loc[i+1,'utc']\n",
    "            dist = distence(now_lon,now_lat,next_lon,next_lat)\n",
    "            if 25<=dist<=20000:\n",
    "                speed = dist/(abs(now_time-next_time))\n",
    "                if speed*3.6 > 50 :\n",
    "                    continue\n",
    "                else:\n",
    "                    speed_data[now_x][now_y] += speed\n",
    "                    count_data[now_x][now_y] += 1\n",
    "                #print(now_x, now_y)\n",
    "                #print(count_data[now_x][now_y])\n",
    "    ship_count += 1\n",
    "    if ship_count % 10 ==0:\n",
    "        print(ship_count)\n",
    "speed_data = np.divide(speed_data, count_data, out=np.zeros_like(speed_data), where=count_data != 0)\n",
    "\n",
    "#speed_data = flip180(speed_data)\n",
    "np.save(r'speed.npy', speed_data)\n"
   ]
  },
  {
   "cell_type": "code",
   "execution_count": null,
   "metadata": {
    "colab": {
     "base_uri": "https://localhost:8080/",
     "height": 34
    },
    "colab_type": "code",
    "executionInfo": {
     "elapsed": 885,
     "status": "ok",
     "timestamp": 1596709313186,
     "user": {
      "displayName": "Kane",
      "photoUrl": "https://lh3.googleusercontent.com/a-/AOh14Gg-OYK-q_VDiB1MYMLMSc0vv5Vp8oVtKBNeSjfo=s64",
      "userId": "16107101568353036922"
     },
     "user_tz": -480
    },
    "id": "CCCCT__W1xUw",
    "outputId": "8f3878f8-27cb-4a67-8020-9ea63a53cb39"
   },
   "outputs": [
    {
     "data": {
      "text/plain": [
       "True"
      ]
     },
     "execution_count": 18,
     "metadata": {
      "tags": []
     },
     "output_type": "execute_result"
    }
   ],
   "source": [
    "import cv2\n",
    "speed_data[speed_data > 0] = 255\n",
    "cv2.imwrite(r'test/speed.png', speed_data)"
   ]
  },
  {
   "cell_type": "code",
   "execution_count": null,
   "metadata": {
    "colab": {
     "base_uri": "https://localhost:8080/",
     "height": 136
    },
    "colab_type": "code",
    "executionInfo": {
     "elapsed": 47141,
     "status": "ok",
     "timestamp": 1596905337799,
     "user": {
      "displayName": "Kane",
      "photoUrl": "https://lh3.googleusercontent.com/a-/AOh14Gg-OYK-q_VDiB1MYMLMSc0vv5Vp8oVtKBNeSjfo=s64",
      "userId": "16107101568353036922"
     },
     "user_tz": -480
    },
    "id": "Uj9RWwYohNZ6",
    "outputId": "dd7a4b7a-e5f3-4935-f06d-f4c14082b326"
   },
   "outputs": [
    {
     "name": "stdout",
     "output_type": "stream",
     "text": [
      "10\n",
      "20\n",
      "30\n",
      "40\n",
      "50\n",
      "60\n",
      "70\n"
     ]
    }
   ],
   "source": [
    "# direction.npy\n",
    "ship_group = data.groupby('mmsi')\n",
    "def bearing(lat_1,lng_1,lat_2,lng_2):\n",
    "    pt_a_lat_rad = math.radians(lat_1)\n",
    "    pt_a_lng_rad = math.radians(lng_1)\n",
    "    pt_b_lat_rad = math.radians(lat_2)\n",
    "    pt_b_lng_rad = math.radians(lng_2)\n",
    "    y = math.sin(pt_b_lng_rad - pt_a_lng_rad) * math.cos(pt_b_lat_rad)\n",
    "    x = math.cos(pt_a_lat_rad) * math.sin(pt_b_lat_rad) - math.sin(pt_a_lat_rad) * math.cos(pt_b_lat_rad) * math.cos(pt_b_lng_rad - pt_a_lng_rad)\n",
    "    bearing_rad = math.atan2(y, x)\n",
    "    return math.fmod(math.degrees(bearing_rad) + 360.0, 360.0)\n",
    "dir_data = np.zeros((4096,4096, 8), dtype=np.uint8)#1024->8192\n",
    "ship_count = 0\n",
    "for mmsi,group in ship_group:\n",
    "    group = group.sort_values(axis = 0,ascending = False,by = ['utc'])\n",
    "    group = group.reset_index(drop = True)\n",
    "    temp = np.zeros((4096,4096), dtype=np.uint8)#1024->8192\n",
    "    for i in range(len(group)):\n",
    "        if i != len(group)-1:\n",
    "            now_lon = group.loc[i,'lon']\n",
    "            now_lat = group.loc[i,'lat']\n",
    "            now_x = group.loc[i,'loc_x']\n",
    "            now_y = group.loc[i,'loc_y']\n",
    "            now_time = group.loc[i,'utc']\n",
    "            next_lon = group.loc[i+1,'lon']\n",
    "            next_lat = group.loc[i+1,'lat']\n",
    "            next_x = group.loc[i+1,'loc_x']\n",
    "            next_y = group.loc[i+1,'loc_y']\n",
    "            next_time = group.loc[i+1,'utc']\n",
    "            dist = distence(now_lon,now_lat,next_lon,next_lat)\n",
    "            if 25<=dist<=20000:\n",
    "                direction = int(((bearing(now_lat,now_lon,next_lat,next_lon) + 22.5) % 360) // 45)\n",
    "                dir_data[now_x,now_y,direction] += 1\n",
    "    ship_count += 1\n",
    "    if ship_count % 10 ==0:\n",
    "        print(ship_count)\n",
    "#dir_data = flip180(dir_data)\n",
    "np.save(r'direction.npy', dir_data)"
   ]
  },
  {
   "cell_type": "code",
   "execution_count": null,
   "metadata": {
    "colab": {
     "base_uri": "https://localhost:8080/",
     "height": 34
    },
    "colab_type": "code",
    "executionInfo": {
     "elapsed": 1200,
     "status": "ok",
     "timestamp": 1596709532961,
     "user": {
      "displayName": "Kane",
      "photoUrl": "https://lh3.googleusercontent.com/a-/AOh14Gg-OYK-q_VDiB1MYMLMSc0vv5Vp8oVtKBNeSjfo=s64",
      "userId": "16107101568353036922"
     },
     "user_tz": -480
    },
    "id": "hu1JsoYE6Jq3",
    "outputId": "a13d5367-0116-4349-b4cf-91ffdc4288bb"
   },
   "outputs": [
    {
     "data": {
      "text/plain": [
       "True"
      ]
     },
     "execution_count": 22,
     "metadata": {
      "tags": []
     },
     "output_type": "execute_result"
    }
   ],
   "source": [
    "import cv2\n",
    "dir_data = dir_data.reshape(4096,32768)\n",
    "dir_data[dir_data > 0] = 255\n",
    "cv2.imwrite(r'test/direction.png', dir_data)"
   ]
  },
  {
   "cell_type": "code",
   "execution_count": null,
   "metadata": {
    "colab": {},
    "colab_type": "code",
    "id": "vPSjrspihNZ8"
   },
   "outputs": [],
   "source": [
    "def get_index(dev_x,dev_y):\n",
    "    center_x = 0\n",
    "    center_y = 0\n",
    "    if 0<dev_x<=4 and 0<dev_y<=4:\n",
    "        center_x = 4\n",
    "        center_y = 3\n",
    "        dev_x -= 1\n",
    "        dev_y -= 1\n",
    "        return center_x+dev_x,center_y-dev_y\n",
    "    elif -4<=dev_x<0 and 0<dev_y<=4:\n",
    "        center_x = 3\n",
    "        center_y = 3\n",
    "        dev_x += 1\n",
    "        dev_y -= 1\n",
    "        return center_x+dev_x,center_y-dev_y\n",
    "    elif -4<=dev_x<0 and -4<=dev_y<0:\n",
    "        center_x = 3\n",
    "        center_y = 4\n",
    "        dev_x += 1\n",
    "        dev_y += 1\n",
    "        return center_x+dev_x,center_y-dev_y\n",
    "    elif 0<dev_x<=4 and -4<=dev_y<0:\n",
    "        center_x = 4\n",
    "        center_y = 4\n",
    "        dev_x -= 1\n",
    "        dev_y += 1\n",
    "        return center_x+dev_x,center_y-dev_y\n",
    "    else:\n",
    "        return None"
   ]
  },
  {
   "cell_type": "code",
   "execution_count": null,
   "metadata": {
    "colab": {
     "base_uri": "https://localhost:8080/",
     "height": 136
    },
    "colab_type": "code",
    "executionInfo": {
     "elapsed": 158178,
     "status": "ok",
     "timestamp": 1596905626055,
     "user": {
      "displayName": "Kane",
      "photoUrl": "https://lh3.googleusercontent.com/a-/AOh14Gg-OYK-q_VDiB1MYMLMSc0vv5Vp8oVtKBNeSjfo=s64",
      "userId": "16107101568353036922"
     },
     "user_tz": -480
    },
    "id": "sQVJJZCLhNZ-",
    "outputId": "9eedc24c-0fb4-4818-d476-601aa216ac49"
   },
   "outputs": [
    {
     "name": "stdout",
     "output_type": "stream",
     "text": [
      "10\n",
      "20\n",
      "30\n",
      "40\n",
      "50\n",
      "60\n",
      "70\n"
     ]
    }
   ],
   "source": [
    "# transition.npy\n",
    "transit_data = np.zeros((4096,4096, 8, 8, 2),dtype=np.uint8)#1024->8192\n",
    "ship_count = 0\n",
    "for mmsi,group in ship_group:\n",
    "    group = group.sort_values(axis = 0,ascending = False,by = ['utc'])\n",
    "    group = group.reset_index(drop = True)\n",
    "    for i in range(len(group)):\n",
    "        if i != len(group)-1:\n",
    "            now_lon = group.loc[i,'lon']\n",
    "            now_lat = group.loc[i,'lat']\n",
    "            now_x = group.loc[i,'loc_x']\n",
    "            now_y = group.loc[i,'loc_y']\n",
    "            now_time = group.loc[i,'utc']\n",
    "            next_lon = group.loc[i+1,'lon']\n",
    "            next_lat = group.loc[i+1,'lat']\n",
    "            next_x = group.loc[i+1,'loc_x']\n",
    "            next_y = group.loc[i+1,'loc_y']\n",
    "            next_time = group.loc[i+1,'utc']\n",
    "            dist = distence(now_lon,now_lat,next_lon,next_lat)\n",
    "            if 25<=dist<=20000:\n",
    "                dev_x = now_x-next_x\n",
    "                dev_y = now_y-next_y\n",
    "                if get_index(dev_x,dev_y) != None:\n",
    "                    now_loc_x,now_loc_y = get_index(dev_x,dev_y)\n",
    "                    transit_data[now_x,now_y,now_loc_x,now_loc_y,0] = 1\n",
    "                    next_loc_x,next_loc_y = get_index(-dev_x,-dev_y)\n",
    "                    transit_data[next_x,next_y,next_loc_x,next_loc_y,1] = 1\n",
    "    ship_count += 1\n",
    "    if ship_count % 10 ==0:\n",
    "        print(ship_count)\n",
    "transit_data = flip180(transit_data)\n",
    "np.save(r'transition_flip180.npy', transit_data)"
   ]
  },
  {
   "cell_type": "code",
   "execution_count": null,
   "metadata": {
    "colab": {
     "base_uri": "https://localhost:8080/",
     "height": 34
    },
    "colab_type": "code",
    "executionInfo": {
     "elapsed": 1257,
     "status": "ok",
     "timestamp": 1596015371157,
     "user": {
      "displayName": "Kane",
      "photoUrl": "https://lh3.googleusercontent.com/a-/AOh14Gg-OYK-q_VDiB1MYMLMSc0vv5Vp8oVtKBNeSjfo=s64",
      "userId": "16107101568353036922"
     },
     "user_tz": -480
    },
    "id": "1_HzP2_I7BDk",
    "outputId": "585933c7-41d3-41d8-f824-399de7a4aea5"
   },
   "outputs": [
    {
     "data": {
      "text/plain": [
       "True"
      ]
     },
     "execution_count": 40,
     "metadata": {
      "tags": []
     },
     "output_type": "execute_result"
    }
   ],
   "source": [
    "import cv2\n",
    "transit_data = transit_data.reshape(8192,16384)\n",
    "transit_data[transit_data > 0] = 255\n",
    "cv2.imwrite(r'0729TestFeatures/transition.png', transit_data)"
   ]
  }
 ],
 "metadata": {
  "colab": {
   "collapsed_sections": [],
   "name": "feature_extraction.ipynb",
   "provenance": []
  },
  "kernelspec": {
   "display_name": "Python 3",
   "language": "python",
   "name": "python3"
  },
  "language_info": {
   "codemirror_mode": {
    "name": "ipython",
    "version": 3
   },
   "file_extension": ".py",
   "mimetype": "text/x-python",
   "name": "python",
   "nbconvert_exporter": "python",
   "pygments_lexer": "ipython3",
   "version": "3.7.0"
  }
 },
 "nbformat": 4,
 "nbformat_minor": 1
}
