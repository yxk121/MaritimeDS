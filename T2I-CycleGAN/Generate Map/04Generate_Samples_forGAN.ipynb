{
 "cells": [
  {
   "cell_type": "code",
   "execution_count": 3,
   "metadata": {
    "colab": {},
    "colab_type": "code",
    "executionInfo": {
     "elapsed": 1463,
     "status": "ok",
     "timestamp": 1597060587847,
     "user": {
      "displayName": "Kane",
      "photoUrl": "https://lh3.googleusercontent.com/a-/AOh14Gg-OYK-q_VDiB1MYMLMSc0vv5Vp8oVtKBNeSjfo=s64",
      "userId": "16107101568353036922"
     },
     "user_tz": -480
    },
    "id": "0C4FZqWkD_WW"
   },
   "outputs": [],
   "source": [
    "import os\n",
    "import cv2\n",
    "import numpy as np"
   ]
  },
  {
   "cell_type": "code",
   "execution_count": 4,
   "metadata": {
    "colab": {},
    "colab_type": "code",
    "executionInfo": {
     "elapsed": 1285,
     "status": "ok",
     "timestamp": 1597060590159,
     "user": {
      "displayName": "Kane",
      "photoUrl": "https://lh3.googleusercontent.com/a-/AOh14Gg-OYK-q_VDiB1MYMLMSc0vv5Vp8oVtKBNeSjfo=s64",
      "userId": "16107101568353036922"
     },
     "user_tz": -480
    },
    "id": "J5mqACN_D_Wa"
   },
   "outputs": [],
   "source": [
    "def generate_samples(path, num, tile_pixel_size, dataset_path):\n",
    "    os.makedirs(dataset_path, exist_ok=True)\n",
    "    point = cv2.imread(os.path.join(path, 'point.png'))\n",
    "    line = cv2.imread(os.path.join(path, 'line.png'))\n",
    "    speed = np.load(os.path.join(path, 'speed.npy'))\n",
    "    direction = np.load(os.path.join(path, 'direction.npy'))\n",
    "    transition = np.load(os.path.join(path, 'transition.npy'))\n",
    "    #centerline = cv2.imread(os.path.join(path, 'centerline.png'))\n",
    "    #region = cv2.imread(os.path.join(path, 'region.png'))\n",
    "\n",
    "    #point_path = os.path.join(dataset_path,'point')\n",
    "    #line_path = os.path.join(dataset_path,'line')\n",
    "    #speed_path = os.path.join(dataset_path,'speed')\n",
    "    #direction_path = os.path.join(dataset_path,'direction')\n",
    "    #transition_path = os.path.join(dataset_path,'transition')\n",
    "    #centerline_path = os.path.join(dataset_path,'centerline')\n",
    "    #region_path = os.path.join(dataset_path,'region')\n",
    "    \n",
    "    for i in range(num // tile_pixel_size):\n",
    "        for j in range(num // tile_pixel_size):\n",
    "            slices = (slice(i * tile_pixel_size, (i + 1) * tile_pixel_size),\n",
    "                      slice(j * tile_pixel_size, (j + 1) * tile_pixel_size))\n",
    "            #cv2.imwrite(os.path.join(centerline_path, '{}_{}_cenlerline.png'.format(i, j)), centerline[slices])\n",
    "            #cv2.imwrite(os.path.join(region_path, '{}_{}_region.png'.format(i, j)), region[slices])\n",
    "            cv2.imwrite(os.path.join(dataset_path, '{}_{}_point.png'.format(i, j)), point[slices])\n",
    "            cv2.imwrite(os.path.join(dataset_path, '{}_{}_line.png'.format(i, j)), line[slices])\n",
    "            np.save(os.path.join(dataset_path, '{}_{}_speed.npy'.format(i, j)), speed[slices])\n",
    "            np.save(os.path.join(dataset_path, '{}_{}_direction.npy'.format(i, j)), direction[slices])\n",
    "            np.save(os.path.join(dataset_path, '{}_{}_transition.npy'.format(i, j)), transition[slices])\n"
   ]
  },
  {
   "cell_type": "code",
   "execution_count": null,
   "metadata": {
    "colab": {},
    "colab_type": "code",
    "id": "D7aNfQHiD_Wd"
   },
   "outputs": [],
   "source": [
    "s = (slice(0,2),\n",
    "     slice(0,2))\n",
    "d = np.array([[0,1,2],\n",
    "     [3,4,5],\n",
    "     [6,7,8]])\n",
    "test = np.zeros((1024,1024))#1024->8192\n",
    "for i in range(1024 // 64):#64->256\n",
    "        for j in range(1024 // 24):\n",
    "            slices = (slice(i * 64, (i + 1) * 64),\n",
    "                      slice(j * 64, (j + 1) * 64))\n",
    "            print(test[slices].shape)\n",
    "            break"
   ]
  },
  {
   "cell_type": "code",
   "execution_count": 5,
   "metadata": {
    "colab": {},
    "colab_type": "code",
    "executionInfo": {
     "elapsed": 201722,
     "status": "ok",
     "timestamp": 1597060800069,
     "user": {
      "displayName": "Kane",
      "photoUrl": "https://lh3.googleusercontent.com/a-/AOh14Gg-OYK-q_VDiB1MYMLMSc0vv5Vp8oVtKBNeSjfo=s64",
      "userId": "16107101568353036922"
     },
     "user_tz": -480
    },
    "id": "NxFa3DRZD_Wg"
   },
   "outputs": [],
   "source": [
    "path = r\"flip180/\"\n",
    "dataset_path = os.path.join(path,'dataset')\n",
    "num = 4096 #1024->8192\n",
    "tile_pixel_size = 256 #64->256\n",
    "generate_samples(path, num, tile_pixel_size, dataset_path)"
   ]
  }
 ],
 "metadata": {
  "colab": {
   "collapsed_sections": [],
   "name": "Generate_Samples_forGAN.ipynb",
   "provenance": []
  },
  "kernelspec": {
   "display_name": "Python 3",
   "language": "python",
   "name": "python3"
  },
  "language_info": {
   "codemirror_mode": {
    "name": "ipython",
    "version": 3
   },
   "file_extension": ".py",
   "mimetype": "text/x-python",
   "name": "python",
   "nbconvert_exporter": "python",
   "pygments_lexer": "ipython3",
   "version": "3.7.0"
  }
 },
 "nbformat": 4,
 "nbformat_minor": 1
}
