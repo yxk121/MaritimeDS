{
 "cells": [
  {
   "cell_type": "code",
   "execution_count": null,
   "metadata": {
    "colab": {
     "base_uri": "https://localhost:8080/",
     "height": 68
    },
    "colab_type": "code",
    "executionInfo": {
     "elapsed": 3149,
     "status": "ok",
     "timestamp": 1600256712748,
     "user": {
      "displayName": "Kane",
      "photoUrl": "https://lh3.googleusercontent.com/a-/AOh14Gg-OYK-q_VDiB1MYMLMSc0vv5Vp8oVtKBNeSjfo=s64",
      "userId": "16107101568353036922"
     },
     "user_tz": -480
    },
    "id": "JWL0UkWfCn7U",
    "outputId": "d9b051b1-c227-4c95-aaac-607d2fd35dce"
   },
   "outputs": [
    {
     "name": "stdout",
     "output_type": "stream",
     "text": [
      "100\n",
      "200\n",
      "300\n"
     ]
    }
   ],
   "source": [
    "import os\n",
    "import pandas as pd\n",
    "import numpy as np\n",
    "# path = r\"11201602IMOshipsFromhbase-Tz30s-withMmsi-0611/\"\n",
    "path = r\"20160607roadnet/\"\n",
    "data = pd.DataFrame(columns = ['lon','lat'])# 'utc','mmsi','dsy'\n",
    "file_count = 0\n",
    "columns_list = []\n",
    "for i in range(2): # 3\n",
    "    columns_list.append(str(i))\n",
    "#columns_list[0] = 'utc'\n",
    "#columns_list[1] = 'mmsi'\n",
    "columns_list[0] = 'lon'\n",
    "columns_list[1] = 'lat'\n",
    "\n",
    "for file in os.listdir(path):\n",
    "    data_temp  = pd.read_csv(os.path.join(path,file))\n",
    "    data_temp.columns = columns_list\n",
    "    data_temp = data_temp[['lon','lat']]# 'utc','mmsi','dsy'\n",
    "    data_temp['count'] = file_count\n",
    "    data = pd.concat([data,data_temp])\n",
    "    \n",
    "    file_count += 1\n",
    "    if file_count%100 == 0:\n",
    "        print(file_count)"
   ]
  },
  {
   "cell_type": "code",
   "execution_count": null,
   "metadata": {
    "colab": {},
    "colab_type": "code",
    "id": "B8wJlUXp0Grb"
   },
   "outputs": [],
   "source": [
    "# data = data.drop(columns='dsy')\n",
    "data = data.drop(columns='utc')"
   ]
  },
  {
   "cell_type": "code",
   "execution_count": null,
   "metadata": {
    "colab": {
     "base_uri": "https://localhost:8080/",
     "height": 255
    },
    "colab_type": "code",
    "executionInfo": {
     "elapsed": 653,
     "status": "ok",
     "timestamp": 1600256717809,
     "user": {
      "displayName": "Kane",
      "photoUrl": "https://lh3.googleusercontent.com/a-/AOh14Gg-OYK-q_VDiB1MYMLMSc0vv5Vp8oVtKBNeSjfo=s64",
      "userId": "16107101568353036922"
     },
     "user_tz": -480
    },
    "id": "21p30iawCn7Z",
    "outputId": "85699685-4896-4a3b-a2a4-9214027df3e5",
    "scrolled": true
   },
   "outputs": [
    {
     "name": "stdout",
     "output_type": "stream",
     "text": [
      "           lon        lat  count\n",
      "0   122.019528  38.188689    0.0\n",
      "1   122.018351  38.190219    0.0\n",
      "2   122.017174  38.191749    0.0\n",
      "3   122.018298  38.192186    0.0\n",
      "4   122.020656  38.193490    0.0\n",
      "..         ...        ...    ...\n",
      "95  120.446174  39.107302  397.0\n",
      "96  120.442741  39.110236  397.0\n",
      "97  120.439183  39.113419  397.0\n",
      "98  120.437934  39.112889  397.0\n",
      "99  120.421018  39.107236  397.0\n",
      "\n",
      "[10511 rows x 3 columns]\n"
     ]
    }
   ],
   "source": [
    "print(data)"
   ]
  },
  {
   "cell_type": "code",
   "execution_count": null,
   "metadata": {
    "colab": {
     "base_uri": "https://localhost:8080/",
     "height": 255
    },
    "colab_type": "code",
    "executionInfo": {
     "elapsed": 1326,
     "status": "ok",
     "timestamp": 1592750646029,
     "user": {
      "displayName": "Kane",
      "photoUrl": "https://lh3.googleusercontent.com/a-/AOh14Gg-OYK-q_VDiB1MYMLMSc0vv5Vp8oVtKBNeSjfo=s64",
      "userId": "16107101568353036922"
     },
     "user_tz": -480
    },
    "id": "y6iEP6uqCn7c",
    "outputId": "e6dab686-5c6c-4807-c8fa-220d8207f092"
   },
   "outputs": [
    {
     "name": "stdout",
     "output_type": "stream",
     "text": [
      "           lon        lat   count\n",
      "0   119.037975  38.428636     0.0\n",
      "0   119.097831  38.505603     1.0\n",
      "0   123.238012  37.556155     2.0\n",
      "1   123.238512  37.552035     2.0\n",
      "2   123.242507  37.552170     2.0\n",
      "..         ...        ...     ...\n",
      "0   118.119607  38.379060  1366.0\n",
      "0   118.060826  38.370739  1367.0\n",
      "0   120.251770  39.173813  1368.0\n",
      "0   119.102977  38.463482  1369.0\n",
      "0   120.408350  38.150341  1370.0\n",
      "\n",
      "[9375 rows x 3 columns]\n"
     ]
    }
   ],
   "source": [
    "#Filter, or skip if you don't need to filter the wrong area; Lon： 117.2~ 124 ； Lat： 36.5 ~ 41.5\n",
    "result = data[(124>=data['lon'])&(data['lon']>=117.2)&(36.5<=data['lat'])&(data['lat']<=41.5)]\n",
    "print(result)"
   ]
  },
  {
   "cell_type": "code",
   "execution_count": null,
   "metadata": {
    "colab": {
     "base_uri": "https://localhost:8080/",
     "height": 85
    },
    "colab_type": "code",
    "executionInfo": {
     "elapsed": 659,
     "status": "ok",
     "timestamp": 1600256726743,
     "user": {
      "displayName": "Kane",
      "photoUrl": "https://lh3.googleusercontent.com/a-/AOh14Gg-OYK-q_VDiB1MYMLMSc0vv5Vp8oVtKBNeSjfo=s64",
      "userId": "16107101568353036922"
     },
     "user_tz": -480
    },
    "id": "hwBelQtxCn7e",
    "outputId": "aad09b14-a1b5-43ab-899f-c1e766153881"
   },
   "outputs": [
    {
     "data": {
      "text/plain": [
       "lon      float64\n",
       "lat      float64\n",
       "count    float64\n",
       "dtype: object"
      ]
     },
     "execution_count": 17,
     "metadata": {
      "tags": []
     },
     "output_type": "execute_result"
    }
   ],
   "source": [
    "data.dtypes"
   ]
  },
  {
   "cell_type": "code",
   "execution_count": null,
   "metadata": {
    "colab": {},
    "colab_type": "code",
    "id": "3lUBUohTbY1v"
   },
   "outputs": [],
   "source": [
    "result = result.astype({'mmsi':'int','utc':'int'})"
   ]
  },
  {
   "cell_type": "code",
   "execution_count": null,
   "metadata": {
    "colab": {},
    "colab_type": "code",
    "id": "gy_SSG6pCn7h"
   },
   "outputs": [],
   "source": [
    "result = data.astype({'dsy':'int'})"
   ]
  },
  {
   "cell_type": "code",
   "execution_count": null,
   "metadata": {
    "colab": {},
    "colab_type": "code",
    "id": "_YXNabz-Cn7k",
    "outputId": "20089f0d-8017-402d-8359-e0d0ef3bd1c5"
   },
   "outputs": [
    {
     "data": {
      "text/html": [
       "<div>\n",
       "<style scoped>\n",
       "    .dataframe tbody tr th:only-of-type {\n",
       "        vertical-align: middle;\n",
       "    }\n",
       "\n",
       "    .dataframe tbody tr th {\n",
       "        vertical-align: top;\n",
       "    }\n",
       "\n",
       "    .dataframe thead th {\n",
       "        text-align: right;\n",
       "    }\n",
       "</style>\n",
       "<table border=\"1\" class=\"dataframe\">\n",
       "  <thead>\n",
       "    <tr style=\"text-align: right;\">\n",
       "      <th></th>\n",
       "      <th>mmsi</th>\n",
       "      <th>utc</th>\n",
       "      <th>lon</th>\n",
       "      <th>lat</th>\n",
       "    </tr>\n",
       "  </thead>\n",
       "  <tbody>\n",
       "    <tr>\n",
       "      <th>15</th>\n",
       "      <td>273338510</td>\n",
       "      <td>1454308126</td>\n",
       "      <td>122.596622</td>\n",
       "      <td>37.987100</td>\n",
       "    </tr>\n",
       "    <tr>\n",
       "      <th>16</th>\n",
       "      <td>273338510</td>\n",
       "      <td>1454306479</td>\n",
       "      <td>122.520953</td>\n",
       "      <td>38.088215</td>\n",
       "    </tr>\n",
       "    <tr>\n",
       "      <th>17</th>\n",
       "      <td>273338510</td>\n",
       "      <td>1454315170</td>\n",
       "      <td>122.916607</td>\n",
       "      <td>37.538898</td>\n",
       "    </tr>\n",
       "    <tr>\n",
       "      <th>18</th>\n",
       "      <td>273338510</td>\n",
       "      <td>1454306758</td>\n",
       "      <td>122.533325</td>\n",
       "      <td>38.071507</td>\n",
       "    </tr>\n",
       "    <tr>\n",
       "      <th>19</th>\n",
       "      <td>273338510</td>\n",
       "      <td>1454314511</td>\n",
       "      <td>122.886490</td>\n",
       "      <td>37.582018</td>\n",
       "    </tr>\n",
       "    <tr>\n",
       "      <th>...</th>\n",
       "      <td>...</td>\n",
       "      <td>...</td>\n",
       "      <td>...</td>\n",
       "      <td>...</td>\n",
       "    </tr>\n",
       "    <tr>\n",
       "      <th>43451</th>\n",
       "      <td>677063700</td>\n",
       "      <td>1454297697</td>\n",
       "      <td>122.438232</td>\n",
       "      <td>36.882625</td>\n",
       "    </tr>\n",
       "    <tr>\n",
       "      <th>43452</th>\n",
       "      <td>677063700</td>\n",
       "      <td>1454505844</td>\n",
       "      <td>122.435597</td>\n",
       "      <td>36.879033</td>\n",
       "    </tr>\n",
       "    <tr>\n",
       "      <th>43453</th>\n",
       "      <td>677063700</td>\n",
       "      <td>1454384402</td>\n",
       "      <td>122.435577</td>\n",
       "      <td>36.879087</td>\n",
       "    </tr>\n",
       "    <tr>\n",
       "      <th>43454</th>\n",
       "      <td>677063700</td>\n",
       "      <td>1454497206</td>\n",
       "      <td>122.435608</td>\n",
       "      <td>36.879082</td>\n",
       "    </tr>\n",
       "    <tr>\n",
       "      <th>43455</th>\n",
       "      <td>677063700</td>\n",
       "      <td>1454286515</td>\n",
       "      <td>122.438215</td>\n",
       "      <td>36.882595</td>\n",
       "    </tr>\n",
       "  </tbody>\n",
       "</table>\n",
       "<p>2043308 rows × 4 columns</p>\n",
       "</div>"
      ],
      "text/plain": [
       "            mmsi         utc         lon        lat\n",
       "15     273338510  1454308126  122.596622  37.987100\n",
       "16     273338510  1454306479  122.520953  38.088215\n",
       "17     273338510  1454315170  122.916607  37.538898\n",
       "18     273338510  1454306758  122.533325  38.071507\n",
       "19     273338510  1454314511  122.886490  37.582018\n",
       "...          ...         ...         ...        ...\n",
       "43451  677063700  1454297697  122.438232  36.882625\n",
       "43452  677063700  1454505844  122.435597  36.879033\n",
       "43453  677063700  1454384402  122.435577  36.879087\n",
       "43454  677063700  1454497206  122.435608  36.879082\n",
       "43455  677063700  1454286515  122.438215  36.882595\n",
       "\n",
       "[2043308 rows x 4 columns]"
      ]
     },
     "execution_count": 11,
     "metadata": {
      "tags": []
     },
     "output_type": "execute_result"
    }
   ],
   "source": [
    "test = result.drop_duplicates(subset = ['mmsi','utc'],keep=\"first\")\n",
    "test"
   ]
  },
  {
   "cell_type": "code",
   "execution_count": null,
   "metadata": {
    "colab": {},
    "colab_type": "code",
    "id": "T6q5JwQPCn7m"
   },
   "outputs": [],
   "source": [
    "data.to_hdf(r\"20160607centerline.h5\", key='df', mode='w')"
   ]
  },
  {
   "cell_type": "code",
   "execution_count": null,
   "metadata": {
    "colab": {},
    "colab_type": "code",
    "id": "9Hh6q12VsdQ9"
   },
   "outputs": [],
   "source": [
    "data.to_hdf(r\"goodcenterline.h5\", key='df', mode='w')"
   ]
  },
  {
   "cell_type": "code",
   "execution_count": null,
   "metadata": {
    "colab": {},
    "colab_type": "code",
    "id": "i9h5j5EJ0ept"
   },
   "outputs": [],
   "source": [
    "data.to_hdf(r\"20160607roadnet.h5\", key='df', mode='w')"
   ]
  },
  {
   "cell_type": "code",
   "execution_count": null,
   "metadata": {
    "colab": {},
    "colab_type": "code",
    "id": "YxTGppOgbnGG"
   },
   "outputs": [],
   "source": [
    "result.to_hdf(r\"dsy50.h5\", key='df', mode='w')"
   ]
  }
 ],
 "metadata": {
  "colab": {
   "collapsed_sections": [],
   "name": "data_disposed-edited.ipynb",
   "provenance": []
  },
  "kernelspec": {
   "display_name": "Python 3",
   "language": "python",
   "name": "python3"
  },
  "language_info": {
   "codemirror_mode": {
    "name": "ipython",
    "version": 3
   },
   "file_extension": ".py",
   "mimetype": "text/x-python",
   "name": "python",
   "nbconvert_exporter": "python",
   "pygments_lexer": "ipython3",
   "version": "3.7.0"
  }
 },
 "nbformat": 4,
 "nbformat_minor": 1
}
