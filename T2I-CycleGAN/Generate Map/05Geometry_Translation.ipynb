{
 "cells": [
  {
   "cell_type": "code",
   "execution_count": null,
   "metadata": {
    "colab": {
     "base_uri": "https://localhost:8080/",
     "height": 34
    },
    "colab_type": "code",
    "executionInfo": {
     "elapsed": 2261,
     "status": "ok",
     "timestamp": 1596892212961,
     "user": {
      "displayName": "Kane",
      "photoUrl": "https://lh3.googleusercontent.com/a-/AOh14Gg-OYK-q_VDiB1MYMLMSc0vv5Vp8oVtKBNeSjfo=s64",
      "userId": "16107101568353036922"
     },
     "user_tz": -480
    },
    "id": "eEIH2b67LpyH",
    "outputId": "6f31c181-35c8-491f-d4eb-161e8ac01e94"
   },
   "outputs": [
    {
     "name": "stdout",
     "output_type": "stream",
     "text": [
      "(4096, 4096, 3)\n"
     ]
    }
   ],
   "source": [
    "from PIL import Image\n",
    "img = Image.open('point_rgb_mirror.jpg').convert('RGB')\n",
    "img = np.array(img)\n",
    "print(img.shape)"
   ]
  },
  {
   "cell_type": "code",
   "execution_count": 26,
   "metadata": {
    "colab": {},
    "colab_type": "code",
    "executionInfo": {
     "elapsed": 1701,
     "status": "ok",
     "timestamp": 1597329840273,
     "user": {
      "displayName": "Kane",
      "photoUrl": "https://lh3.googleusercontent.com/a-/AOh14Gg-OYK-q_VDiB1MYMLMSc0vv5Vp8oVtKBNeSjfo=s64",
      "userId": "16107101568353036922"
     },
     "user_tz": -480
    },
    "id": "0XVkjg236_tA"
   },
   "outputs": [],
   "source": [
    "import torch.utils.data as data\n",
    "import numpy as np\n",
    "from PIL import Image\n",
    "import os\n",
    "import torch\n",
    "import torchvision.transforms as transforms"
   ]
  },
  {
   "cell_type": "code",
   "execution_count": 28,
   "metadata": {
    "colab": {},
    "colab_type": "code",
    "executionInfo": {
     "elapsed": 9,
     "status": "ok",
     "timestamp": 1597329964013,
     "user": {
      "displayName": "Kane",
      "photoUrl": "https://lh3.googleusercontent.com/a-/AOh14Gg-OYK-q_VDiB1MYMLMSc0vv5Vp8oVtKBNeSjfo=s64",
      "userId": "16107101568353036922"
     },
     "user_tz": -480
    },
    "id": "LuSyKnI19rAK"
   },
   "outputs": [],
   "source": [
    "data_path = 'origin'\n",
    "img_paths = [os.path.join(data_path, filename) for filename in os.listdir(data_path)\n",
    "                          if filename.endswith('line.png')]\n",
    "\n"
   ]
  },
  {
   "cell_type": "code",
   "execution_count": 29,
   "metadata": {
    "colab": {
     "base_uri": "https://localhost:8080/",
     "height": 1000
    },
    "colab_type": "code",
    "executionInfo": {
     "elapsed": 290357,
     "status": "ok",
     "timestamp": 1597330257358,
     "user": {
      "displayName": "Kane",
      "photoUrl": "https://lh3.googleusercontent.com/a-/AOh14Gg-OYK-q_VDiB1MYMLMSc0vv5Vp8oVtKBNeSjfo=s64",
      "userId": "16107101568353036922"
     },
     "user_tz": -480
    },
    "id": "HaWNkKdt66k3",
    "outputId": "d98f8576-7e0f-41e5-95d6-1909a028bf03"
   },
   "outputs": [
    {
     "name": "stdout",
     "output_type": "stream",
     "text": [
      "origin/0_5_combine.npy stored!\n"
     ]
    }
   ],
   "source": [
    "for img_path in img_paths:\n",
    "    line_img = Image.open(img_path).convert('L')\n",
    "    point_img = Image.open(img_path.replace('line.png', 'point.png')).convert('L')\n",
    "    speed = np.load(img_path.replace('line.png', 'speed.npy'))\n",
    "    direction = np.load(img_path.replace('line.png', 'direction.npy'))\n",
    "    transition_view = np.load(img_path.replace('line.png', 'transition.npy')).astype('float32')\n",
    "\n",
    "    transition_view[transition_view > 0] = 1.0\n",
    "    transition_view = torch.from_numpy(transition_view)\n",
    "    #print('transition_view_before:',transition_view.shape)\n",
    "\n",
    "    transition_view = transition_view.reshape([256, 256, 128]).permute(2, 0, 1)\n",
    "    #print('transition_view_after:',transition_view.shape)\n",
    "\n",
    "    # normalization & to torch data structure\n",
    "    spatial_features = []\n",
    "    img_transform = transforms.ToTensor()\n",
    "    spatial_features.append(img_transform(point_img))\n",
    "    line_img = img_transform(line_img)\n",
    "    spatial_features.append(line_img)\n",
    "    speed = torch.from_numpy((speed / 13.1).astype('float32'))\n",
    "    spatial_features.append(speed.permute(2, 0, 1))  # final positions\n",
    "    direction = direction.astype('float32')\n",
    "    summed = np.sum(direction, axis=2, keepdims=True)\n",
    "    direction = torch.from_numpy(np.divide(direction, summed, out=np.zeros_like(direction), where=summed != 0))\n",
    "    for i in range(direction.shape[2]):\n",
    "        spatial_features.append(direction[:, :, i:i+1].permute(2, 0, 1))\n",
    "    spatial_view = torch.cat(tuple(spatial_features), 0)\n",
    "    #print('spatial_view:',spatial_view.shape)\n",
    "\n",
    "    combine_view = torch.cat([spatial_view, transition_view], 0)\n",
    "    #print('combine_view:',combine_view.shape)\n",
    "\n",
    "    combine = combine_view.numpy()\n",
    "    np.save(img_path.replace('line.png', 'combine.npy').replace('selected', 'spatialtrans'), combine)\n",
    "    print(img_path.replace('line.png', 'combine.npy').replace('selected', 'spatialtrans'),'stored!')\n",
    "\n",
    "    #centerline_img = img_transform(centerline_img)\n",
    "    #region_img = img_transform(region_img)\n"
   ]
  },
  {
   "cell_type": "code",
   "execution_count": null,
   "metadata": {
    "colab": {
     "base_uri": "https://localhost:8080/",
     "height": 68
    },
    "colab_type": "code",
    "executionInfo": {
     "elapsed": 1315,
     "status": "ok",
     "timestamp": 1597058297164,
     "user": {
      "displayName": "Kane",
      "photoUrl": "https://lh3.googleusercontent.com/a-/AOh14Gg-OYK-q_VDiB1MYMLMSc0vv5Vp8oVtKBNeSjfo=s64",
      "userId": "16107101568353036922"
     },
     "user_tz": -480
    },
    "id": "Tt2OH_JfEWtB",
    "outputId": "a2b496f3-e040-4293-e4d9-70f93c433c86"
   },
   "outputs": [
    {
     "name": "stdout",
     "output_type": "stream",
     "text": [
      "combine (139, 256, 256)\n",
      "spatial: torch.Size([11, 256, 256])\n",
      "transition: torch.Size([128, 256, 256])\n"
     ]
    }
   ],
   "source": [
    "#Observe\n",
    "combine = combine_view.numpy()\n",
    "print('combine',combine.shape)\n",
    "spatial, transition = combine_view.split([11,128],dim=0)\n",
    "print('spatial:',spatial.shape)\n",
    "print('transition:',transition.shape)\n"
   ]
  }
 ],
 "metadata": {
  "colab": {
   "authorship_tag": "ABX9TyOr8Rw9NcZs1z3AVAX0xQbB",
   "collapsed_sections": [],
   "name": "Geometry Translation.ipynb",
   "provenance": []
  },
  "kernelspec": {
   "display_name": "Python 3",
   "language": "python",
   "name": "python3"
  },
  "language_info": {
   "codemirror_mode": {
    "name": "ipython",
    "version": 3
   },
   "file_extension": ".py",
   "mimetype": "text/x-python",
   "name": "python",
   "nbconvert_exporter": "python",
   "pygments_lexer": "ipython3",
   "version": "3.7.0"
  }
 },
 "nbformat": 4,
 "nbformat_minor": 1
}
